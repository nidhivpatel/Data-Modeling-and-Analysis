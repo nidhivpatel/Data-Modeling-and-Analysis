{
  "nbformat": 4,
  "nbformat_minor": 0,
  "metadata": {
    "colab": {
      "provenance": []
    },
    "kernelspec": {
      "name": "python3",
      "display_name": "Python 3"
    },
    "language_info": {
      "name": "python"
    }
  },
  "cells": [
    {
      "cell_type": "markdown",
      "source": [
        "2. For magnesium* 100"
      ],
      "metadata": {
        "id": "postMgNnojQy"
      }
    },
    {
      "cell_type": "code",
      "execution_count": 1,
      "metadata": {
        "colab": {
          "base_uri": "https://localhost:8080/"
        },
        "id": "L1Pz9kDedvXs",
        "outputId": "07c6c1a6-967e-4727-9e46-dcdf1e2108c9"
      },
      "outputs": [
        {
          "output_type": "stream",
          "name": "stdout",
          "text": [
            "Exploratory Analysis: \n",
            "          alcohol  malic_acid         ash  alcalinity_of_ash     magnesium  \\\n",
            "count  178.000000  178.000000  178.000000         178.000000    178.000000   \n",
            "mean    13.000618    2.336348    2.366517          19.494944   9974.157303   \n",
            "std      0.811827    1.117146    0.274344           3.339564   1428.248352   \n",
            "min     11.030000    0.740000    1.360000          10.600000   7000.000000   \n",
            "25%     12.362500    1.602500    2.210000          17.200000   8800.000000   \n",
            "50%     13.050000    1.865000    2.360000          19.500000   9800.000000   \n",
            "75%     13.677500    3.082500    2.557500          21.500000  10700.000000   \n",
            "max     14.830000    5.800000    3.230000          30.000000  16200.000000   \n",
            "\n",
            "       total_phenols  flavanoids  nonflavanoid_phenols  proanthocyanins  \\\n",
            "count     178.000000  178.000000            178.000000       178.000000   \n",
            "mean        2.295112    2.029270              0.361854         1.590899   \n",
            "std         0.625851    0.998859              0.124453         0.572359   \n",
            "min         0.980000    0.340000              0.130000         0.410000   \n",
            "25%         1.742500    1.205000              0.270000         1.250000   \n",
            "50%         2.355000    2.135000              0.340000         1.555000   \n",
            "75%         2.800000    2.875000              0.437500         1.950000   \n",
            "max         3.880000    5.080000              0.660000         3.580000   \n",
            "\n",
            "       color_intensity         hue  od280/od315_of_diluted_wines      proline  \\\n",
            "count       178.000000  178.000000                    178.000000   178.000000   \n",
            "mean          5.058090    0.957449                      2.611685   746.893258   \n",
            "std           2.318286    0.228572                      0.709990   314.907474   \n",
            "min           1.280000    0.480000                      1.270000   278.000000   \n",
            "25%           3.220000    0.782500                      1.937500   500.500000   \n",
            "50%           4.690000    0.965000                      2.780000   673.500000   \n",
            "75%           6.200000    1.120000                      3.170000   985.000000   \n",
            "max          13.000000    1.710000                      4.000000  1680.000000   \n",
            "\n",
            "           target  \n",
            "count  178.000000  \n",
            "mean     0.938202  \n",
            "std      0.775035  \n",
            "min      0.000000  \n",
            "25%      0.000000  \n",
            "50%      1.000000  \n",
            "75%      2.000000  \n",
            "max      2.000000  \n",
            "\n",
            "Accuracy without scaling: 0.9814814814814815\n",
            "Accuracy with StandardScaler: 0.9814814814814815\n",
            "Accuracy with MinMaxScaler: 0.9814814814814815\n"
          ]
        }
      ],
      "source": [
        "from sklearn.datasets import load_wine\n",
        "import pandas as pd\n",
        "from sklearn.preprocessing import StandardScaler\n",
        "from sklearn.model_selection import train_test_split\n",
        "from sklearn.naive_bayes import GaussianNB\n",
        "from sklearn.preprocessing import MinMaxScaler\n",
        "\n",
        "\n",
        "# Load the wine dataset\n",
        "wine = load_wine()\n",
        "df = pd.DataFrame(data=wine.data, columns=wine.feature_names)\n",
        "df['target'] = wine.target\n",
        "\n",
        "# Update the 'magnesium' column\n",
        "df['magnesium'] = df['magnesium'] * 100\n",
        "\n",
        "print(\"Exploratory Analysis: \")\n",
        "# Perform exploratory analysis\n",
        "print(df.describe())\n",
        "\n",
        "# Decision: Use GaussianNB since the features are continuous\n",
        "classifier = GaussianNB()\n",
        "\n",
        "X = df.drop(columns=['target'])\n",
        "y = df['target']\n",
        "\n",
        "X_train, X_test, y_train, y_test = train_test_split(X, y, test_size=0.3, random_state=25)\n",
        "\n",
        "# Train and evaluate without scaling\n",
        "classifier.fit(X_train, y_train)\n",
        "accuracy_without_scaling = classifier.score(X_test, y_test)\n",
        "print()\n",
        "\n",
        "\n",
        "\n",
        "scaler = StandardScaler()\n",
        "X_train_scaled = scaler.fit_transform(X_train)\n",
        "X_test_scaled = scaler.transform(X_test)\n",
        "\n",
        "# Train and evaluate with StandardScaler\n",
        "classifier.fit(X_train_scaled, y_train)\n",
        "accuracy_with_standard_scaler = classifier.score(X_test_scaled, y_test)\n",
        "\n",
        "\n",
        "scaler = MinMaxScaler()\n",
        "X_train_scaled = scaler.fit_transform(X_train)\n",
        "X_test_scaled = scaler.transform(X_test)\n",
        "\n",
        "# Train and evaluate with MinMaxScaler\n",
        "classifier.fit(X_train_scaled, y_train)\n",
        "accuracy_with_minmax_scaler = classifier.score(X_test_scaled, y_test)\n",
        "\n",
        "\n",
        "print(f'Accuracy without scaling: {accuracy_without_scaling}')\n",
        "print(f'Accuracy with StandardScaler: {accuracy_with_standard_scaler}')\n",
        "print(f'Accuracy with MinMaxScaler: {accuracy_with_minmax_scaler}')"
      ]
    },
    {
      "cell_type": "markdown",
      "source": [
        "9. For magnesium*10000000"
      ],
      "metadata": {
        "id": "0bK_CEbHoadv"
      }
    },
    {
      "cell_type": "code",
      "source": [
        "# Update the 'magnesium' column by multiplying each value by 10,000,000\n",
        "df['magnesium'] = df['magnesium'] * 10000000\n",
        "\n",
        "# Repeat Steps 2 to 8\n",
        "# 2. Perform exploratory analysis and choose Naive Bayes classifier\n",
        "print(\"Exploratory Anaysis\")\n",
        "print(df.describe())\n",
        "\n",
        "# 3. Split the dataset into training and testing sets\n",
        "X = df.drop(columns=['target'])\n",
        "y = df['target']\n",
        "\n",
        "X_train, X_test, y_train, y_test = train_test_split(X, y, test_size=0.3, random_state=25)\n",
        "\n",
        "# 4. Train and evaluate without scaling\n",
        "classifier.fit(X_train, y_train)\n",
        "accuracy_without_scaling = classifier.score(X_test, y_test)\n",
        "print(f'Accuracy without scaling: {accuracy_without_scaling}')\n",
        "\n",
        "# 5. Train and evaluate with StandardScaler\n",
        "scaler = StandardScaler()\n",
        "X_train_scaled = scaler.fit_transform(X_train)\n",
        "X_test_scaled = scaler.transform(X_test)\n",
        "\n",
        "classifier.fit(X_train_scaled, y_train)\n",
        "accuracy_with_standard_scaler = classifier.score(X_test_scaled, y_test)\n",
        "print(f'Accuracy with StandardScaler: {accuracy_with_standard_scaler}')\n",
        "\n",
        "# 6. Train and evaluate with MinMaxScaler\n",
        "scaler = MinMaxScaler()\n",
        "X_train_scaled = scaler.fit_transform(X_train)\n",
        "X_test_scaled = scaler.transform(X_test)\n",
        "\n",
        "classifier.fit(X_train_scaled, y_train)\n",
        "accuracy_with_minmax_scaler = classifier.score(X_test_scaled, y_test)\n",
        "print(f'Accuracy with MinMaxScaler: {accuracy_with_minmax_scaler}')\n"
      ],
      "metadata": {
        "colab": {
          "base_uri": "https://localhost:8080/"
        },
        "id": "AhKooMYIoexH",
        "outputId": "2caec8ad-92c4-4cf5-a38c-8e8be9ab415b"
      },
      "execution_count": 2,
      "outputs": [
        {
          "output_type": "stream",
          "name": "stdout",
          "text": [
            "Exploratory Anaysis\n",
            "          alcohol  malic_acid         ash  alcalinity_of_ash     magnesium  \\\n",
            "count  178.000000  178.000000  178.000000         178.000000  1.780000e+02   \n",
            "mean    13.000618    2.336348    2.366517          19.494944  9.974157e+10   \n",
            "std      0.811827    1.117146    0.274344           3.339564  1.428248e+10   \n",
            "min     11.030000    0.740000    1.360000          10.600000  7.000000e+10   \n",
            "25%     12.362500    1.602500    2.210000          17.200000  8.800000e+10   \n",
            "50%     13.050000    1.865000    2.360000          19.500000  9.800000e+10   \n",
            "75%     13.677500    3.082500    2.557500          21.500000  1.070000e+11   \n",
            "max     14.830000    5.800000    3.230000          30.000000  1.620000e+11   \n",
            "\n",
            "       total_phenols  flavanoids  nonflavanoid_phenols  proanthocyanins  \\\n",
            "count     178.000000  178.000000            178.000000       178.000000   \n",
            "mean        2.295112    2.029270              0.361854         1.590899   \n",
            "std         0.625851    0.998859              0.124453         0.572359   \n",
            "min         0.980000    0.340000              0.130000         0.410000   \n",
            "25%         1.742500    1.205000              0.270000         1.250000   \n",
            "50%         2.355000    2.135000              0.340000         1.555000   \n",
            "75%         2.800000    2.875000              0.437500         1.950000   \n",
            "max         3.880000    5.080000              0.660000         3.580000   \n",
            "\n",
            "       color_intensity         hue  od280/od315_of_diluted_wines      proline  \\\n",
            "count       178.000000  178.000000                    178.000000   178.000000   \n",
            "mean          5.058090    0.957449                      2.611685   746.893258   \n",
            "std           2.318286    0.228572                      0.709990   314.907474   \n",
            "min           1.280000    0.480000                      1.270000   278.000000   \n",
            "25%           3.220000    0.782500                      1.937500   500.500000   \n",
            "50%           4.690000    0.965000                      2.780000   673.500000   \n",
            "75%           6.200000    1.120000                      3.170000   985.000000   \n",
            "max          13.000000    1.710000                      4.000000  1680.000000   \n",
            "\n",
            "           target  \n",
            "count  178.000000  \n",
            "mean     0.938202  \n",
            "std      0.775035  \n",
            "min      0.000000  \n",
            "25%      0.000000  \n",
            "50%      1.000000  \n",
            "75%      2.000000  \n",
            "max      2.000000  \n",
            "Accuracy without scaling: 0.4444444444444444\n",
            "Accuracy with StandardScaler: 0.9814814814814815\n",
            "Accuracy with MinMaxScaler: 0.9814814814814815\n"
          ]
        }
      ]
    }
  ]
}